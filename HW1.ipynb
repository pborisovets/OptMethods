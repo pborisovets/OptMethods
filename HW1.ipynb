{
 "cells": [
  {
   "cell_type": "markdown",
   "metadata": {},
   "source": [
    "Find the dimensions (height h and radius r) that will minimize the surface area of the metal to\n",
    "manufacture a circular cylindrical can of volume V .\n",
    "\n",
    "S = 2*pi*r*h + 2*pi*r**2\n",
    "V = pi*r**2 *h\n",
    "\n",
    "h = V/pi*r**2\n",
    "\n",
    "S(r) = 2*V/r + 2*pi*r**2\n",
    "S'(r) = -2*V/r**2 + 4*pi*r\n",
    "\n",
    "S'(r) = 0 : r=(V/(2*pi))**(1/3)"
   ]
  },
  {
   "cell_type": "code",
   "execution_count": 9,
   "metadata": {},
   "outputs": [
    {
     "name": "stdout",
     "output_type": "stream",
     "text": [
      "0.5419260701392891\n"
     ]
    },
    {
     "data": {
      "text/plain": [
       "<matplotlib.collections.PathCollection at 0x28f277e5d68>"
      ]
     },
     "execution_count": 9,
     "metadata": {},
     "output_type": "execute_result"
    },
    {
     "data": {
      "image/png": "[encoded data removed]",
      "text/plain": [
       "<Figure size 432x288 with 1 Axes>"
      ]
     },
     "metadata": {
      "needs_background": "light"
     },
     "output_type": "display_data"
    }
   ],
   "source": [
    "from math import pi\n",
    "def calc_S(r): #V === 1\n",
    "    return 2/r+2*pi*r**2\n",
    "ropt = (1/(2*pi))**(1/3)\n",
    "print(ropt)\n",
    "r_vals = [0.1, 0.2, 0.3, 0.4, 0.5, ropt, 0.6, 0.7, 1, 1.2]\n",
    "S_vals = [calc_S(r) for r in r_vals]\n",
    "\n",
    "import matplotlib.pyplot as plt\n",
    "%matplotlib inline\n",
    "plt.plot(r_vals, S_vals)\n",
    "plt.scatter(ropt, calc_S(ropt))"
   ]
  },
  {
   "cell_type": "markdown",
   "metadata": {},
   "source": [
    "# Task 2\n",
    "Consider the unconstrained optimization problem to minimize the function\n",
    "\n",
    "b does not matter (adding constant does not affect function \n",
    "Condition of extremum: \\nabla f = 0\n",
    "\n",
    "\n"
   ]
  },
  {
   "cell_type": "code",
   "execution_count": null,
   "metadata": {},
   "outputs": [],
   "source": [
    "def fx1x2(x1, x2, a=1, b=1):\n",
    "    return 3/2*(x1**2+x2**2) + (1+a)*x1*x2 - (x1+x2) + b\n",
    "\n"
   ]
  },
  {
   "cell_type": "markdown",
   "metadata": {},
   "source": [
    "# Task 3\n",
    "Nelder Mead method"
   ]
  },
  {
   "cell_type": "code",
   "execution_count": 52,
   "metadata": {},
   "outputs": [],
   "source": [
    "from math import sin, cos, e\n",
    "def func(x,y):\n",
    "    return sin(y)*e**((1-cos(x))**2) + cos(x)*e**((1-sin(y))**2) + (x-y)**2\n",
    "def in_area(x,y):\n",
    "    return (x+5)**2 + (y+5)**2 < 25\n",
    "\n",
    "al = 1\n",
    "bet = 0.5\n",
    "gam = 2\n",
    "\n",
    "x0 = [\n",
    "    [0,4],\n",
    "    [4,0],\n",
    "    [0,0]\n",
    "]\n",
    "\n",
    "def _get_center(x1, x2):\n",
    "    xc = []\n",
    "    for i in range(len(x1)):\n",
    "        xc.append((x1[i]+x2[i])/2)\n",
    "    return xc\n",
    "def _reflect(xc, xh):\n",
    "    xr = []\n",
    "    for i in range(len(xc)):\n",
    "        xr.append(xc[i]+al*(xc[i]-xh[i]))\n",
    "    return xr\n",
    "def _expansion(xc, xr):\n",
    "    xe = []\n",
    "    for i in range(len(xc)):\n",
    "        xe.append(xc[i]+gam*(xr[i]-xc[i]))\n",
    "    return xe\n",
    "def _contraction(xc, xh):\n",
    "    xco = []\n",
    "    for i in range(len(xc)):\n",
    "        xco.append(xc[i]+bet*(xh[i]-xc[i]))\n",
    "    return xco\n",
    "    \n",
    "\n",
    "def step_nelder_mead(x):\n",
    "    x_prev = x[:]\n",
    "    f_prev = []\n",
    "    for p in x_prev:\n",
    "        f_prev.append(func(*p))\n",
    "    x_best = x_prev.pop(np.argmin(f_prev))\n",
    "    f_best = f_prev.pop(np.argmin(f_prev))\n",
    "    x_worst = x_prev.pop(np.argmax(f_prev))\n",
    "    f_worst = f_prev.pop(np.argmax(f_prev))\n",
    "    x_mid = x_prev.pop()\n",
    "    f_mid = f_prev.pop()\n",
    "    x_c = _get_center(x_best, x_mid)\n",
    "    x_r = _reflect(x_c, x_worst)\n",
    "    f_r = func(*x_r)\n",
    "    # 4. Comparison\n",
    "    if f_r <= f_best:\n",
    "        x_e = _expansion(x_c, x_r)\n",
    "        f_e = func(*x_e)\n",
    "        if f_e <= f_best:\n",
    "            return [x_best, x_mid, x_e]\n",
    "        elif f_e >= f_best:\n",
    "            return [x_best, x_mid, x_r]\n",
    "    elif f_best <= f_r and f_r <= f_mid:\n",
    "        return [x_best, x_mid, x_r]\n",
    "    elif f_worst >= f_r and f_r >= f_mid:\n",
    "        #5. Contraction\n",
    "        x_s = _contraction(x_c, x_worst)\n",
    "        f_s = func(*x_s)\n",
    "        if f_s <= f_worst: #6\n",
    "            return [x_best, x_mid, x_s]\n",
    "        elif f_s >= f_worst: #7. Shrinkage\n",
    "            return [x_best, _contraction(x_best, x_worst), _contraction(x_best, x_mid)]\n",
    "    print('ERROR, ', f_r, f_best, f_mid, f_worst)\n",
    "    return None\n",
    "\n"
   ]
  },
  {
   "cell_type": "code",
   "execution_count": 53,
   "metadata": {},
   "outputs": [
    {
     "name": "stdout",
     "output_type": "stream",
     "text": [
      "ERROR,  74.96326705432672 2.718281828459045 14.22321242311827 37.14031501268624\n"
     ]
    },
    {
     "ename": "TypeError",
     "evalue": "'NoneType' object is not subscriptable",
     "output_type": "error",
     "traceback": [
      "\u001b[1;31m---------------------------------------------------------------------------\u001b[0m",
      "\u001b[1;31mTypeError\u001b[0m                                 Traceback (most recent call last)",
      "\u001b[1;32m<ipython-input-53-ba68f7f80911>\u001b[0m in \u001b[0;36m<module>\u001b[1;34m\u001b[0m\n\u001b[0;32m      1\u001b[0m \u001b[0msteps\u001b[0m \u001b[1;33m=\u001b[0m \u001b[1;33m[\u001b[0m\u001b[0mx0\u001b[0m\u001b[1;33m]\u001b[0m\u001b[1;33m\u001b[0m\u001b[1;33m\u001b[0m\u001b[0m\n\u001b[0;32m      2\u001b[0m \u001b[1;32mfor\u001b[0m \u001b[0mi\u001b[0m \u001b[1;32min\u001b[0m \u001b[0mrange\u001b[0m\u001b[1;33m(\u001b[0m\u001b[1;36m2\u001b[0m\u001b[1;33m)\u001b[0m\u001b[1;33m:\u001b[0m\u001b[1;33m\u001b[0m\u001b[1;33m\u001b[0m\u001b[0m\n\u001b[1;32m----> 3\u001b[1;33m     \u001b[0msteps\u001b[0m\u001b[1;33m.\u001b[0m\u001b[0mappend\u001b[0m\u001b[1;33m(\u001b[0m\u001b[0mstep_nelder_mead\u001b[0m\u001b[1;33m(\u001b[0m\u001b[0msteps\u001b[0m\u001b[1;33m[\u001b[0m\u001b[0mi\u001b[0m\u001b[1;33m]\u001b[0m\u001b[1;33m)\u001b[0m\u001b[1;33m)\u001b[0m\u001b[1;33m\u001b[0m\u001b[1;33m\u001b[0m\u001b[0m\n\u001b[0m\u001b[0;32m      4\u001b[0m \u001b[1;33m\u001b[0m\u001b[0m\n\u001b[0;32m      5\u001b[0m \u001b[1;32mimport\u001b[0m \u001b[0mmatplotlib\u001b[0m\u001b[1;33m.\u001b[0m\u001b[0mpyplot\u001b[0m \u001b[1;32mas\u001b[0m \u001b[0mplt\u001b[0m\u001b[1;33m\u001b[0m\u001b[1;33m\u001b[0m\u001b[0m\n",
      "\u001b[1;32m<ipython-input-52-4f68493e4c3b>\u001b[0m in \u001b[0;36mstep_nelder_mead\u001b[1;34m(x)\u001b[0m\n\u001b[0;32m     38\u001b[0m \u001b[1;33m\u001b[0m\u001b[0m\n\u001b[0;32m     39\u001b[0m \u001b[1;32mdef\u001b[0m \u001b[0mstep_nelder_mead\u001b[0m\u001b[1;33m(\u001b[0m\u001b[0mx\u001b[0m\u001b[1;33m)\u001b[0m\u001b[1;33m:\u001b[0m\u001b[1;33m\u001b[0m\u001b[1;33m\u001b[0m\u001b[0m\n\u001b[1;32m---> 40\u001b[1;33m     \u001b[0mx_prev\u001b[0m \u001b[1;33m=\u001b[0m \u001b[0mx\u001b[0m\u001b[1;33m[\u001b[0m\u001b[1;33m:\u001b[0m\u001b[1;33m]\u001b[0m\u001b[1;33m\u001b[0m\u001b[1;33m\u001b[0m\u001b[0m\n\u001b[0m\u001b[0;32m     41\u001b[0m     \u001b[0mf_prev\u001b[0m \u001b[1;33m=\u001b[0m \u001b[1;33m[\u001b[0m\u001b[1;33m]\u001b[0m\u001b[1;33m\u001b[0m\u001b[1;33m\u001b[0m\u001b[0m\n\u001b[0;32m     42\u001b[0m     \u001b[1;32mfor\u001b[0m \u001b[0mp\u001b[0m \u001b[1;32min\u001b[0m \u001b[0mx_prev\u001b[0m\u001b[1;33m:\u001b[0m\u001b[1;33m\u001b[0m\u001b[1;33m\u001b[0m\u001b[0m\n",
      "\u001b[1;31mTypeError\u001b[0m: 'NoneType' object is not subscriptable"
     ]
    }
   ],
   "source": [
    "steps = [x0]\n",
    "for i in range(2):\n",
    "    steps.append(step_nelder_mead(steps[i]))\n",
    "    \n",
    "import matplotlib.pyplot as plt\n",
    "%matplotlib inline\n",
    "\n",
    "def visualize_steps(steps):\n",
    "    for st in steps:\n",
    "        xs, ys = [], []\n",
    "        for s in st:\n",
    "            xs.append(s[0])\n",
    "            ys.append(s[1])\n",
    "        plt.scatter(xs, ys)\n",
    "        xs.append(xs[0])\n",
    "        ys.append(ys[0])\n",
    "        plt.plot(xs, ys)\n",
    "    print(\"Done!\")\n",
    "\n",
    "visualize_steps(steps)"
   ]
  },
  {
   "cell_type": "code",
   "execution_count": 32,
   "metadata": {},
   "outputs": [
    {
     "data": {
      "text/plain": [
       "<matplotlib.collections.PathCollection at 0x28f29a9e828>"
      ]
     },
     "execution_count": 32,
     "metadata": {},
     "output_type": "execute_result"
    },
    {
     "data": {
      "image/png": "[encoded data removed]",
      "text/plain": [
       "<Figure size 432x288 with 1 Axes>"
      ]
     },
     "metadata": {
      "needs_background": "light"
     },
     "output_type": "display_data"
    }
   ],
   "source": [
    "\n",
    "x0 = [\n",
    "    [0,4],\n",
    "    [4,0],\n",
    "    [0,0]\n",
    "]\n",
    "x_best, x_mid, x_worst = x0[0], x0[1], x0[2]\n",
    "for x in x0:\n",
    "    plt.scatter(*x)\n",
    "x_c = _get_center(x_best, x_mid)\n",
    "plt.scatter(*x_c)\n",
    "x_r = _reflect(x_c, x_worst)\n",
    "plt.scatter(*x_r)\n",
    "plt.scatter(*_expansion(x_c, x_r))"
   ]
  },
  {
   "cell_type": "code",
   "execution_count": 40,
   "metadata": {},
   "outputs": [
    {
     "data": {
      "text/plain": [
       "2.718281828459045"
      ]
     },
     "execution_count": 40,
     "metadata": {},
     "output_type": "execute_result"
    }
   ],
   "source": [
    "import math\n",
    "math.e"
   ]
  }
 ],
 "metadata": {
  "kernelspec": {
   "display_name": "Python 3",
   "language": "python",
   "name": "python3"
  },
  "language_info": {
   "codemirror_mode": {
    "name": "ipython",
    "version": 3
   },
   "file_extension": ".py",
   "mimetype": "text/x-python",
   "name": "python",
   "nbconvert_exporter": "python",
   "pygments_lexer": "ipython3",
   "version": "3.6.7"
  }
 },
 "nbformat": 4,
 "nbformat_minor": 4
}
