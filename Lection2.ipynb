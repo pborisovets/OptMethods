{
 "cells": [
  {
   "cell_type": "markdown",
   "metadata": {},
   "source": [
    "f(x,y) = (x^2 + y - 11)^2 + (x+y^2-7)^2"
   ]
  },
  {
   "cell_type": "code",
   "execution_count": null,
   "metadata": {},
   "outputs": [],
   "source": [
    "\n",
    "def opt_neld_mied(oracle, start_simplex):\n",
    "    '''start_simplex = []'''"
   ]
  },
  {
   "cell_type": "code",
   "execution_count": 10,
   "metadata": {},
   "outputs": [
    {
     "name": "stdout",
     "output_type": "stream",
     "text": [
      "Optimization terminated successfully.\n",
      "         Current function value: 0.000000\n",
      "         Iterations: 10\n",
      "         Function evaluations: 64\n",
      "         Gradient evaluations: 16\n"
     ]
    },
    {
     "name": "stderr",
     "output_type": "stream",
     "text": [
      "C:\\ProgramData\\Anaconda3\\lib\\site-packages\\ipykernel_launcher.py:13: OptimizeWarning: Unknown solver options: xatol, initial_simplex\n",
      "  del sys.path[0]\n"
     ]
    },
    {
     "data": {
      "text/plain": [
       "      fun: 1.3782237540369274e-13\n",
       " hess_inv: array([[ 0.01578229, -0.0094806 ],\n",
       "       [-0.0094806 ,  0.03494937]])\n",
       "      jac: array([-3.95019453e-06, -1.19075395e-06])\n",
       "  message: 'Optimization terminated successfully.'\n",
       "     nfev: 64\n",
       "      nit: 10\n",
       "     njev: 16\n",
       "   status: 0\n",
       "  success: True\n",
       "        x: array([2.99999994, 1.99999999])"
      ]
     },
     "execution_count": 10,
     "metadata": {},
     "output_type": "execute_result"
    }
   ],
   "source": [
    "from scipy import optimize\n",
    "def oracle(arr):\n",
    "    x = arr[0]\n",
    "    y = arr[1]\n",
    "    return (x**2 +y -11)**2 + (x + y**2 -7)**2\n",
    "\n",
    "s0 = [[0,0],[10,0],[0,10]]\n",
    "options = {\n",
    "    'disp' : True,\n",
    "    'xatol': 0.00000001,\n",
    "    'initial_simplex' : s0\n",
    "}\n",
    "optimize.minimize(oracle, x0 = [0,0], options = options)"
   ]
  },
  {
   "cell_type": "code",
   "execution_count": 6,
   "metadata": {},
   "outputs": [
    {
     "data": {
      "text/plain": [
       "[[0, 0], [10, 0], [0, 10]]"
      ]
     },
     "execution_count": 6,
     "metadata": {},
     "output_type": "execute_result"
    }
   ],
   "source": [
    "s0"
   ]
  }
 ],
 "metadata": {
  "kernelspec": {
   "display_name": "Python 3",
   "language": "python",
   "name": "python3"
  },
  "language_info": {
   "codemirror_mode": {
    "name": "ipython",
    "version": 3
   },
   "file_extension": ".py",
   "mimetype": "text/x-python",
   "name": "python",
   "nbconvert_exporter": "python",
   "pygments_lexer": "ipython3",
   "version": "3.6.10"
  }
 },
 "nbformat": 4,
 "nbformat_minor": 4
}
